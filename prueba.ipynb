{
 "cells": [
  {
   "cell_type": "code",
   "execution_count": 1,
   "id": "f51779be",
   "metadata": {},
   "outputs": [
    {
     "name": "stdout",
     "output_type": "stream",
     "text": [
      "Ai para você, meu amor!\n",
      "Você é a razão do meu sorriso!\n",
      "Você ilumina meus dias!\n",
      "Você é a minha felicidade!\n",
      "Você é a minha inspiração!\n",
      "Você é a minha vida!\n"
     ]
    }
   ],
   "source": [
    "print(\"Ai para você, meu amor!\")\n",
    "# eu te amo!\n",
    "print(\"Você é a razão do meu sorriso!\")\n",
    "print(\"Você ilumina meus dias!\")\n",
    "print(\"Você é a minha felicidade!\")\n",
    "print(\"Você é a minha inspiração!\")\n",
    "print(\"Você é a minha vida!\")"
   ]
  }
 ],
 "metadata": {
  "kernelspec": {
   "display_name": "Python 3",
   "language": "python",
   "name": "python3"
  },
  "language_info": {
   "codemirror_mode": {
    "name": "ipython",
    "version": 3
   },
   "file_extension": ".py",
   "mimetype": "text/x-python",
   "name": "python",
   "nbconvert_exporter": "python",
   "pygments_lexer": "ipython3",
   "version": "3.12.5"
  }
 },
 "nbformat": 4,
 "nbformat_minor": 5
}
